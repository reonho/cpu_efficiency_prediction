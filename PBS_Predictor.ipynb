{
 "cells": [
  {
   "cell_type": "markdown",
   "metadata": {},
   "source": [
    "# Predicting CPU Efficiency of HPC Cluster Jobs with Nerual Network\n",
    "\n",
    "In a HPC environment, users submit their scripts/programs as jobs to a Job Scheduler. \n",
    "Users can request for resources for their scripts/programs, e.g.: Number of CPU cores, Number of GPUs, Amount of Memory (RAM).\n",
    "The Job Scheduler then dispatches the user's job to remote servers (nodes) when resources are available.\n",
    "\n",
    "The provided dataset consists of logs of completed/ended jobs. It records the requested resource values as well as actual resource consumption values of each job. The goal of this project is to predict which requests are inefficient i.e. does not utilise all the cores it asks for. \n",
    "\n",
    "This allows us to allocate resources in a more efficient manner.\n",
    "\n",
    "## Data Description\n",
    "\n",
    "### Columns\n",
    "'user','dept','queue','Exit_status',\n",
    "'Resource_List.fluent_lic', 'Resource_List.mem',\n",
    "'Resource_List.mpiprocs', 'Resource_List.ncpus', 'Resource_List.ngpus',\n",
    "'Resource_List.nodect', 'Resource_List.walltime', 'cluster', 'ctime', 'datetime', 'end',\n",
    "'etime', 'exec_host', 'exec_vnode', 'group', 'job_id',\n",
    "'qtime', 'resources_used.GPU_duration','resources_used.GPU_maxGpuMemoryUsed',\n",
    "'resources_used.GPU_energyConsumed', 'resources_used.cpupercent',\n",
    "'resources_used.cput', 'resources_used.mem', 'resources_used.ncpus',\n",
    "'resources_used.vmem', 'resources_used.walltime',\n",
    "'run_count', 'start', 'status', 'wait_time', 'gpu0.mem_max', 'gpu0.smUtil_avg',\n",
    "'gpu0.smUtil_max', 'gpu1.mem_max', 'gpu1.smUtil_avg', 'gpu1.smUtil_max',\n",
    "'gpu2.mem_max', 'gpu2.smUtil_avg', 'gpu2.smUtil_max', 'gpu3.mem_max',\n",
    "'gpu3.smUtil_avg', 'gpu3.smUtil_max',\n"
   ]
  },
  {
   "cell_type": "code",
   "execution_count": 2,
   "metadata": {},
   "outputs": [],
   "source": [
    "import pandas as pd\n",
    "import seaborn as sn\n",
    "import matplotlib.pyplot as plt\n",
    "import numpy as np\n",
    "\n",
    "np.random.seed(2020)"
   ]
  },
  {
   "cell_type": "markdown",
   "metadata": {},
   "source": [
    "## Load Data"
   ]
  },
  {
   "cell_type": "code",
   "execution_count": 3,
   "metadata": {},
   "outputs": [],
   "source": [
    "data = pd.read_csv(\"C:\\\\Users\\\\reonh\\\\Documents\\\\NUS\\\\1920 S2\\\\DYOM\\\\filtered_062019.csv\", index_col = 0)\n",
    "data0 = data"
   ]
  },
  {
   "cell_type": "code",
   "execution_count": 4,
   "metadata": {},
   "outputs": [
    {
     "data": {
      "text/html": [
       "<div>\n",
       "<style scoped>\n",
       "    .dataframe tbody tr th:only-of-type {\n",
       "        vertical-align: middle;\n",
       "    }\n",
       "\n",
       "    .dataframe tbody tr th {\n",
       "        vertical-align: top;\n",
       "    }\n",
       "\n",
       "    .dataframe thead th {\n",
       "        text-align: right;\n",
       "    }\n",
       "</style>\n",
       "<table border=\"1\" class=\"dataframe\">\n",
       "  <thead>\n",
       "    <tr style=\"text-align: right;\">\n",
       "      <th></th>\n",
       "      <th>user</th>\n",
       "      <th>dept</th>\n",
       "      <th>queue</th>\n",
       "      <th>Exit_status</th>\n",
       "      <th>Resource_List.fluent_lic</th>\n",
       "      <th>Resource_List.mem</th>\n",
       "      <th>Resource_List.mpiprocs</th>\n",
       "      <th>Resource_List.ncpus</th>\n",
       "      <th>Resource_List.ngpus</th>\n",
       "      <th>Resource_List.nodect</th>\n",
       "      <th>...</th>\n",
       "      <th>gpu0.smUtil_max</th>\n",
       "      <th>gpu1.mem_max</th>\n",
       "      <th>gpu1.smUtil_avg</th>\n",
       "      <th>gpu1.smUtil_max</th>\n",
       "      <th>gpu2.mem_max</th>\n",
       "      <th>gpu2.smUtil_avg</th>\n",
       "      <th>gpu2.smUtil_max</th>\n",
       "      <th>gpu3.mem_max</th>\n",
       "      <th>gpu3.smUtil_avg</th>\n",
       "      <th>gpu3.smUtil_max</th>\n",
       "    </tr>\n",
       "  </thead>\n",
       "  <tbody>\n",
       "    <tr>\n",
       "      <td>0</td>\n",
       "      <td>c4ee464d6b4108a3a3cfc83891b6e535883b01ec678ced...</td>\n",
       "      <td>CEE</td>\n",
       "      <td>parallel20</td>\n",
       "      <td>0</td>\n",
       "      <td>0.0</td>\n",
       "      <td>41943040.0</td>\n",
       "      <td>0.0</td>\n",
       "      <td>20</td>\n",
       "      <td>0.0</td>\n",
       "      <td>1</td>\n",
       "      <td>...</td>\n",
       "      <td>0.0</td>\n",
       "      <td>0.0</td>\n",
       "      <td>0.0</td>\n",
       "      <td>0.0</td>\n",
       "      <td>0.0</td>\n",
       "      <td>0.0</td>\n",
       "      <td>0.0</td>\n",
       "      <td>0.0</td>\n",
       "      <td>0.0</td>\n",
       "      <td>0.0</td>\n",
       "    </tr>\n",
       "    <tr>\n",
       "      <td>1</td>\n",
       "      <td>c4ee464d6b4108a3a3cfc83891b6e535883b01ec678ced...</td>\n",
       "      <td>CEE</td>\n",
       "      <td>parallel8</td>\n",
       "      <td>0</td>\n",
       "      <td>0.0</td>\n",
       "      <td>20971520.0</td>\n",
       "      <td>0.0</td>\n",
       "      <td>8</td>\n",
       "      <td>0.0</td>\n",
       "      <td>1</td>\n",
       "      <td>...</td>\n",
       "      <td>0.0</td>\n",
       "      <td>0.0</td>\n",
       "      <td>0.0</td>\n",
       "      <td>0.0</td>\n",
       "      <td>0.0</td>\n",
       "      <td>0.0</td>\n",
       "      <td>0.0</td>\n",
       "      <td>0.0</td>\n",
       "      <td>0.0</td>\n",
       "      <td>0.0</td>\n",
       "    </tr>\n",
       "    <tr>\n",
       "      <td>2</td>\n",
       "      <td>c4ee464d6b4108a3a3cfc83891b6e535883b01ec678ced...</td>\n",
       "      <td>CEE</td>\n",
       "      <td>parallel20</td>\n",
       "      <td>0</td>\n",
       "      <td>0.0</td>\n",
       "      <td>41943040.0</td>\n",
       "      <td>0.0</td>\n",
       "      <td>20</td>\n",
       "      <td>0.0</td>\n",
       "      <td>1</td>\n",
       "      <td>...</td>\n",
       "      <td>0.0</td>\n",
       "      <td>0.0</td>\n",
       "      <td>0.0</td>\n",
       "      <td>0.0</td>\n",
       "      <td>0.0</td>\n",
       "      <td>0.0</td>\n",
       "      <td>0.0</td>\n",
       "      <td>0.0</td>\n",
       "      <td>0.0</td>\n",
       "      <td>0.0</td>\n",
       "    </tr>\n",
       "    <tr>\n",
       "      <td>3</td>\n",
       "      <td>c4ee464d6b4108a3a3cfc83891b6e535883b01ec678ced...</td>\n",
       "      <td>CEE</td>\n",
       "      <td>parallel20</td>\n",
       "      <td>0</td>\n",
       "      <td>0.0</td>\n",
       "      <td>41943040.0</td>\n",
       "      <td>0.0</td>\n",
       "      <td>20</td>\n",
       "      <td>0.0</td>\n",
       "      <td>1</td>\n",
       "      <td>...</td>\n",
       "      <td>0.0</td>\n",
       "      <td>0.0</td>\n",
       "      <td>0.0</td>\n",
       "      <td>0.0</td>\n",
       "      <td>0.0</td>\n",
       "      <td>0.0</td>\n",
       "      <td>0.0</td>\n",
       "      <td>0.0</td>\n",
       "      <td>0.0</td>\n",
       "      <td>0.0</td>\n",
       "    </tr>\n",
       "    <tr>\n",
       "      <td>4</td>\n",
       "      <td>c4ee464d6b4108a3a3cfc83891b6e535883b01ec678ced...</td>\n",
       "      <td>CEE</td>\n",
       "      <td>parallel8</td>\n",
       "      <td>0</td>\n",
       "      <td>0.0</td>\n",
       "      <td>20971520.0</td>\n",
       "      <td>0.0</td>\n",
       "      <td>8</td>\n",
       "      <td>0.0</td>\n",
       "      <td>1</td>\n",
       "      <td>...</td>\n",
       "      <td>0.0</td>\n",
       "      <td>0.0</td>\n",
       "      <td>0.0</td>\n",
       "      <td>0.0</td>\n",
       "      <td>0.0</td>\n",
       "      <td>0.0</td>\n",
       "      <td>0.0</td>\n",
       "      <td>0.0</td>\n",
       "      <td>0.0</td>\n",
       "      <td>0.0</td>\n",
       "    </tr>\n",
       "  </tbody>\n",
       "</table>\n",
       "<p>5 rows × 46 columns</p>\n",
       "</div>"
      ],
      "text/plain": [
       "                                                user dept       queue  \\\n",
       "0  c4ee464d6b4108a3a3cfc83891b6e535883b01ec678ced...  CEE  parallel20   \n",
       "1  c4ee464d6b4108a3a3cfc83891b6e535883b01ec678ced...  CEE   parallel8   \n",
       "2  c4ee464d6b4108a3a3cfc83891b6e535883b01ec678ced...  CEE  parallel20   \n",
       "3  c4ee464d6b4108a3a3cfc83891b6e535883b01ec678ced...  CEE  parallel20   \n",
       "4  c4ee464d6b4108a3a3cfc83891b6e535883b01ec678ced...  CEE   parallel8   \n",
       "\n",
       "   Exit_status  Resource_List.fluent_lic  Resource_List.mem  \\\n",
       "0            0                       0.0         41943040.0   \n",
       "1            0                       0.0         20971520.0   \n",
       "2            0                       0.0         41943040.0   \n",
       "3            0                       0.0         41943040.0   \n",
       "4            0                       0.0         20971520.0   \n",
       "\n",
       "   Resource_List.mpiprocs  Resource_List.ncpus  Resource_List.ngpus  \\\n",
       "0                     0.0                   20                  0.0   \n",
       "1                     0.0                    8                  0.0   \n",
       "2                     0.0                   20                  0.0   \n",
       "3                     0.0                   20                  0.0   \n",
       "4                     0.0                    8                  0.0   \n",
       "\n",
       "   Resource_List.nodect  ...  gpu0.smUtil_max gpu1.mem_max gpu1.smUtil_avg  \\\n",
       "0                     1  ...              0.0          0.0             0.0   \n",
       "1                     1  ...              0.0          0.0             0.0   \n",
       "2                     1  ...              0.0          0.0             0.0   \n",
       "3                     1  ...              0.0          0.0             0.0   \n",
       "4                     1  ...              0.0          0.0             0.0   \n",
       "\n",
       "  gpu1.smUtil_max gpu2.mem_max gpu2.smUtil_avg gpu2.smUtil_max gpu3.mem_max  \\\n",
       "0             0.0          0.0             0.0             0.0          0.0   \n",
       "1             0.0          0.0             0.0             0.0          0.0   \n",
       "2             0.0          0.0             0.0             0.0          0.0   \n",
       "3             0.0          0.0             0.0             0.0          0.0   \n",
       "4             0.0          0.0             0.0             0.0          0.0   \n",
       "\n",
       "  gpu3.smUtil_avg gpu3.smUtil_max  \n",
       "0             0.0             0.0  \n",
       "1             0.0             0.0  \n",
       "2             0.0             0.0  \n",
       "3             0.0             0.0  \n",
       "4             0.0             0.0  \n",
       "\n",
       "[5 rows x 46 columns]"
      ]
     },
     "execution_count": 4,
     "metadata": {},
     "output_type": "execute_result"
    }
   ],
   "source": [
    "data.head()"
   ]
  },
  {
   "cell_type": "code",
   "execution_count": 5,
   "metadata": {},
   "outputs": [
    {
     "data": {
      "text/plain": [
       "Int64Index([    0,     1,     2,     3,     4,     5,     6,     7,     8,\n",
       "                9,\n",
       "            ...\n",
       "            39378, 39379, 39380, 39381, 39382, 39383, 39384, 39385, 39386,\n",
       "            39387],\n",
       "           dtype='int64', length=787777)"
      ]
     },
     "execution_count": 5,
     "metadata": {},
     "output_type": "execute_result"
    }
   ],
   "source": [
    "data.index"
   ]
  },
  {
   "cell_type": "markdown",
   "metadata": {},
   "source": [
    "Observe that while the data has 781592 rows, the unique indices only reach up to 39837. We drop the index row and create a new one that uniquely indexes each row."
   ]
  },
  {
   "cell_type": "code",
   "execution_count": 6,
   "metadata": {},
   "outputs": [
    {
     "data": {
      "text/html": [
       "<div>\n",
       "<style scoped>\n",
       "    .dataframe tbody tr th:only-of-type {\n",
       "        vertical-align: middle;\n",
       "    }\n",
       "\n",
       "    .dataframe tbody tr th {\n",
       "        vertical-align: top;\n",
       "    }\n",
       "\n",
       "    .dataframe thead th {\n",
       "        text-align: right;\n",
       "    }\n",
       "</style>\n",
       "<table border=\"1\" class=\"dataframe\">\n",
       "  <thead>\n",
       "    <tr style=\"text-align: right;\">\n",
       "      <th></th>\n",
       "      <th>user</th>\n",
       "      <th>dept</th>\n",
       "      <th>queue</th>\n",
       "      <th>Exit_status</th>\n",
       "      <th>Resource_List.fluent_lic</th>\n",
       "      <th>Resource_List.mem</th>\n",
       "      <th>Resource_List.mpiprocs</th>\n",
       "      <th>Resource_List.ncpus</th>\n",
       "      <th>Resource_List.ngpus</th>\n",
       "      <th>Resource_List.nodect</th>\n",
       "      <th>...</th>\n",
       "      <th>gpu0.smUtil_max</th>\n",
       "      <th>gpu1.mem_max</th>\n",
       "      <th>gpu1.smUtil_avg</th>\n",
       "      <th>gpu1.smUtil_max</th>\n",
       "      <th>gpu2.mem_max</th>\n",
       "      <th>gpu2.smUtil_avg</th>\n",
       "      <th>gpu2.smUtil_max</th>\n",
       "      <th>gpu3.mem_max</th>\n",
       "      <th>gpu3.smUtil_avg</th>\n",
       "      <th>gpu3.smUtil_max</th>\n",
       "    </tr>\n",
       "  </thead>\n",
       "  <tbody>\n",
       "    <tr>\n",
       "      <td>0</td>\n",
       "      <td>c4ee464d6b4108a3a3cfc83891b6e535883b01ec678ced...</td>\n",
       "      <td>CEE</td>\n",
       "      <td>parallel20</td>\n",
       "      <td>0</td>\n",
       "      <td>0.0</td>\n",
       "      <td>41943040.0</td>\n",
       "      <td>0.0</td>\n",
       "      <td>20</td>\n",
       "      <td>0.0</td>\n",
       "      <td>1</td>\n",
       "      <td>...</td>\n",
       "      <td>0.0</td>\n",
       "      <td>0.0</td>\n",
       "      <td>0.0</td>\n",
       "      <td>0.0</td>\n",
       "      <td>0.0</td>\n",
       "      <td>0.0</td>\n",
       "      <td>0.0</td>\n",
       "      <td>0.0</td>\n",
       "      <td>0.0</td>\n",
       "      <td>0.0</td>\n",
       "    </tr>\n",
       "    <tr>\n",
       "      <td>1</td>\n",
       "      <td>c4ee464d6b4108a3a3cfc83891b6e535883b01ec678ced...</td>\n",
       "      <td>CEE</td>\n",
       "      <td>parallel8</td>\n",
       "      <td>0</td>\n",
       "      <td>0.0</td>\n",
       "      <td>20971520.0</td>\n",
       "      <td>0.0</td>\n",
       "      <td>8</td>\n",
       "      <td>0.0</td>\n",
       "      <td>1</td>\n",
       "      <td>...</td>\n",
       "      <td>0.0</td>\n",
       "      <td>0.0</td>\n",
       "      <td>0.0</td>\n",
       "      <td>0.0</td>\n",
       "      <td>0.0</td>\n",
       "      <td>0.0</td>\n",
       "      <td>0.0</td>\n",
       "      <td>0.0</td>\n",
       "      <td>0.0</td>\n",
       "      <td>0.0</td>\n",
       "    </tr>\n",
       "    <tr>\n",
       "      <td>2</td>\n",
       "      <td>c4ee464d6b4108a3a3cfc83891b6e535883b01ec678ced...</td>\n",
       "      <td>CEE</td>\n",
       "      <td>parallel20</td>\n",
       "      <td>0</td>\n",
       "      <td>0.0</td>\n",
       "      <td>41943040.0</td>\n",
       "      <td>0.0</td>\n",
       "      <td>20</td>\n",
       "      <td>0.0</td>\n",
       "      <td>1</td>\n",
       "      <td>...</td>\n",
       "      <td>0.0</td>\n",
       "      <td>0.0</td>\n",
       "      <td>0.0</td>\n",
       "      <td>0.0</td>\n",
       "      <td>0.0</td>\n",
       "      <td>0.0</td>\n",
       "      <td>0.0</td>\n",
       "      <td>0.0</td>\n",
       "      <td>0.0</td>\n",
       "      <td>0.0</td>\n",
       "    </tr>\n",
       "    <tr>\n",
       "      <td>3</td>\n",
       "      <td>c4ee464d6b4108a3a3cfc83891b6e535883b01ec678ced...</td>\n",
       "      <td>CEE</td>\n",
       "      <td>parallel20</td>\n",
       "      <td>0</td>\n",
       "      <td>0.0</td>\n",
       "      <td>41943040.0</td>\n",
       "      <td>0.0</td>\n",
       "      <td>20</td>\n",
       "      <td>0.0</td>\n",
       "      <td>1</td>\n",
       "      <td>...</td>\n",
       "      <td>0.0</td>\n",
       "      <td>0.0</td>\n",
       "      <td>0.0</td>\n",
       "      <td>0.0</td>\n",
       "      <td>0.0</td>\n",
       "      <td>0.0</td>\n",
       "      <td>0.0</td>\n",
       "      <td>0.0</td>\n",
       "      <td>0.0</td>\n",
       "      <td>0.0</td>\n",
       "    </tr>\n",
       "    <tr>\n",
       "      <td>4</td>\n",
       "      <td>c4ee464d6b4108a3a3cfc83891b6e535883b01ec678ced...</td>\n",
       "      <td>CEE</td>\n",
       "      <td>parallel8</td>\n",
       "      <td>0</td>\n",
       "      <td>0.0</td>\n",
       "      <td>20971520.0</td>\n",
       "      <td>0.0</td>\n",
       "      <td>8</td>\n",
       "      <td>0.0</td>\n",
       "      <td>1</td>\n",
       "      <td>...</td>\n",
       "      <td>0.0</td>\n",
       "      <td>0.0</td>\n",
       "      <td>0.0</td>\n",
       "      <td>0.0</td>\n",
       "      <td>0.0</td>\n",
       "      <td>0.0</td>\n",
       "      <td>0.0</td>\n",
       "      <td>0.0</td>\n",
       "      <td>0.0</td>\n",
       "      <td>0.0</td>\n",
       "    </tr>\n",
       "    <tr>\n",
       "      <td>...</td>\n",
       "      <td>...</td>\n",
       "      <td>...</td>\n",
       "      <td>...</td>\n",
       "      <td>...</td>\n",
       "      <td>...</td>\n",
       "      <td>...</td>\n",
       "      <td>...</td>\n",
       "      <td>...</td>\n",
       "      <td>...</td>\n",
       "      <td>...</td>\n",
       "      <td>...</td>\n",
       "      <td>...</td>\n",
       "      <td>...</td>\n",
       "      <td>...</td>\n",
       "      <td>...</td>\n",
       "      <td>...</td>\n",
       "      <td>...</td>\n",
       "      <td>...</td>\n",
       "      <td>...</td>\n",
       "      <td>...</td>\n",
       "      <td>...</td>\n",
       "    </tr>\n",
       "    <tr>\n",
       "      <td>787772</td>\n",
       "      <td>c4ee464d6b4108a3a3cfc83891b6e535883b01ec678ced...</td>\n",
       "      <td>CEE</td>\n",
       "      <td>parallel20</td>\n",
       "      <td>0</td>\n",
       "      <td>0.0</td>\n",
       "      <td>41943040.0</td>\n",
       "      <td>0.0</td>\n",
       "      <td>20</td>\n",
       "      <td>0.0</td>\n",
       "      <td>1</td>\n",
       "      <td>...</td>\n",
       "      <td>0.0</td>\n",
       "      <td>0.0</td>\n",
       "      <td>0.0</td>\n",
       "      <td>0.0</td>\n",
       "      <td>0.0</td>\n",
       "      <td>0.0</td>\n",
       "      <td>0.0</td>\n",
       "      <td>0.0</td>\n",
       "      <td>0.0</td>\n",
       "      <td>0.0</td>\n",
       "    </tr>\n",
       "    <tr>\n",
       "      <td>787773</td>\n",
       "      <td>c4ee464d6b4108a3a3cfc83891b6e535883b01ec678ced...</td>\n",
       "      <td>CEE</td>\n",
       "      <td>parallel8</td>\n",
       "      <td>0</td>\n",
       "      <td>0.0</td>\n",
       "      <td>20971520.0</td>\n",
       "      <td>0.0</td>\n",
       "      <td>8</td>\n",
       "      <td>0.0</td>\n",
       "      <td>1</td>\n",
       "      <td>...</td>\n",
       "      <td>0.0</td>\n",
       "      <td>0.0</td>\n",
       "      <td>0.0</td>\n",
       "      <td>0.0</td>\n",
       "      <td>0.0</td>\n",
       "      <td>0.0</td>\n",
       "      <td>0.0</td>\n",
       "      <td>0.0</td>\n",
       "      <td>0.0</td>\n",
       "      <td>0.0</td>\n",
       "    </tr>\n",
       "    <tr>\n",
       "      <td>787774</td>\n",
       "      <td>c4ee464d6b4108a3a3cfc83891b6e535883b01ec678ced...</td>\n",
       "      <td>CEE</td>\n",
       "      <td>parallel8</td>\n",
       "      <td>0</td>\n",
       "      <td>0.0</td>\n",
       "      <td>20971520.0</td>\n",
       "      <td>0.0</td>\n",
       "      <td>8</td>\n",
       "      <td>0.0</td>\n",
       "      <td>1</td>\n",
       "      <td>...</td>\n",
       "      <td>0.0</td>\n",
       "      <td>0.0</td>\n",
       "      <td>0.0</td>\n",
       "      <td>0.0</td>\n",
       "      <td>0.0</td>\n",
       "      <td>0.0</td>\n",
       "      <td>0.0</td>\n",
       "      <td>0.0</td>\n",
       "      <td>0.0</td>\n",
       "      <td>0.0</td>\n",
       "    </tr>\n",
       "    <tr>\n",
       "      <td>787775</td>\n",
       "      <td>c4ee464d6b4108a3a3cfc83891b6e535883b01ec678ced...</td>\n",
       "      <td>CEE</td>\n",
       "      <td>parallel20</td>\n",
       "      <td>0</td>\n",
       "      <td>0.0</td>\n",
       "      <td>41943040.0</td>\n",
       "      <td>0.0</td>\n",
       "      <td>20</td>\n",
       "      <td>0.0</td>\n",
       "      <td>1</td>\n",
       "      <td>...</td>\n",
       "      <td>0.0</td>\n",
       "      <td>0.0</td>\n",
       "      <td>0.0</td>\n",
       "      <td>0.0</td>\n",
       "      <td>0.0</td>\n",
       "      <td>0.0</td>\n",
       "      <td>0.0</td>\n",
       "      <td>0.0</td>\n",
       "      <td>0.0</td>\n",
       "      <td>0.0</td>\n",
       "    </tr>\n",
       "    <tr>\n",
       "      <td>787776</td>\n",
       "      <td>c4ee464d6b4108a3a3cfc83891b6e535883b01ec678ced...</td>\n",
       "      <td>CEE</td>\n",
       "      <td>parallel20</td>\n",
       "      <td>0</td>\n",
       "      <td>0.0</td>\n",
       "      <td>41943040.0</td>\n",
       "      <td>0.0</td>\n",
       "      <td>20</td>\n",
       "      <td>0.0</td>\n",
       "      <td>1</td>\n",
       "      <td>...</td>\n",
       "      <td>0.0</td>\n",
       "      <td>0.0</td>\n",
       "      <td>0.0</td>\n",
       "      <td>0.0</td>\n",
       "      <td>0.0</td>\n",
       "      <td>0.0</td>\n",
       "      <td>0.0</td>\n",
       "      <td>0.0</td>\n",
       "      <td>0.0</td>\n",
       "      <td>0.0</td>\n",
       "    </tr>\n",
       "  </tbody>\n",
       "</table>\n",
       "<p>787777 rows × 46 columns</p>\n",
       "</div>"
      ],
      "text/plain": [
       "                                                     user dept       queue  \\\n",
       "0       c4ee464d6b4108a3a3cfc83891b6e535883b01ec678ced...  CEE  parallel20   \n",
       "1       c4ee464d6b4108a3a3cfc83891b6e535883b01ec678ced...  CEE   parallel8   \n",
       "2       c4ee464d6b4108a3a3cfc83891b6e535883b01ec678ced...  CEE  parallel20   \n",
       "3       c4ee464d6b4108a3a3cfc83891b6e535883b01ec678ced...  CEE  parallel20   \n",
       "4       c4ee464d6b4108a3a3cfc83891b6e535883b01ec678ced...  CEE   parallel8   \n",
       "...                                                   ...  ...         ...   \n",
       "787772  c4ee464d6b4108a3a3cfc83891b6e535883b01ec678ced...  CEE  parallel20   \n",
       "787773  c4ee464d6b4108a3a3cfc83891b6e535883b01ec678ced...  CEE   parallel8   \n",
       "787774  c4ee464d6b4108a3a3cfc83891b6e535883b01ec678ced...  CEE   parallel8   \n",
       "787775  c4ee464d6b4108a3a3cfc83891b6e535883b01ec678ced...  CEE  parallel20   \n",
       "787776  c4ee464d6b4108a3a3cfc83891b6e535883b01ec678ced...  CEE  parallel20   \n",
       "\n",
       "        Exit_status  Resource_List.fluent_lic  Resource_List.mem  \\\n",
       "0                 0                       0.0         41943040.0   \n",
       "1                 0                       0.0         20971520.0   \n",
       "2                 0                       0.0         41943040.0   \n",
       "3                 0                       0.0         41943040.0   \n",
       "4                 0                       0.0         20971520.0   \n",
       "...             ...                       ...                ...   \n",
       "787772            0                       0.0         41943040.0   \n",
       "787773            0                       0.0         20971520.0   \n",
       "787774            0                       0.0         20971520.0   \n",
       "787775            0                       0.0         41943040.0   \n",
       "787776            0                       0.0         41943040.0   \n",
       "\n",
       "        Resource_List.mpiprocs  Resource_List.ncpus  Resource_List.ngpus  \\\n",
       "0                          0.0                   20                  0.0   \n",
       "1                          0.0                    8                  0.0   \n",
       "2                          0.0                   20                  0.0   \n",
       "3                          0.0                   20                  0.0   \n",
       "4                          0.0                    8                  0.0   \n",
       "...                        ...                  ...                  ...   \n",
       "787772                     0.0                   20                  0.0   \n",
       "787773                     0.0                    8                  0.0   \n",
       "787774                     0.0                    8                  0.0   \n",
       "787775                     0.0                   20                  0.0   \n",
       "787776                     0.0                   20                  0.0   \n",
       "\n",
       "        Resource_List.nodect  ...  gpu0.smUtil_max gpu1.mem_max  \\\n",
       "0                          1  ...              0.0          0.0   \n",
       "1                          1  ...              0.0          0.0   \n",
       "2                          1  ...              0.0          0.0   \n",
       "3                          1  ...              0.0          0.0   \n",
       "4                          1  ...              0.0          0.0   \n",
       "...                      ...  ...              ...          ...   \n",
       "787772                     1  ...              0.0          0.0   \n",
       "787773                     1  ...              0.0          0.0   \n",
       "787774                     1  ...              0.0          0.0   \n",
       "787775                     1  ...              0.0          0.0   \n",
       "787776                     1  ...              0.0          0.0   \n",
       "\n",
       "       gpu1.smUtil_avg gpu1.smUtil_max gpu2.mem_max gpu2.smUtil_avg  \\\n",
       "0                  0.0             0.0          0.0             0.0   \n",
       "1                  0.0             0.0          0.0             0.0   \n",
       "2                  0.0             0.0          0.0             0.0   \n",
       "3                  0.0             0.0          0.0             0.0   \n",
       "4                  0.0             0.0          0.0             0.0   \n",
       "...                ...             ...          ...             ...   \n",
       "787772             0.0             0.0          0.0             0.0   \n",
       "787773             0.0             0.0          0.0             0.0   \n",
       "787774             0.0             0.0          0.0             0.0   \n",
       "787775             0.0             0.0          0.0             0.0   \n",
       "787776             0.0             0.0          0.0             0.0   \n",
       "\n",
       "       gpu2.smUtil_max gpu3.mem_max gpu3.smUtil_avg gpu3.smUtil_max  \n",
       "0                  0.0          0.0             0.0             0.0  \n",
       "1                  0.0          0.0             0.0             0.0  \n",
       "2                  0.0          0.0             0.0             0.0  \n",
       "3                  0.0          0.0             0.0             0.0  \n",
       "4                  0.0          0.0             0.0             0.0  \n",
       "...                ...          ...             ...             ...  \n",
       "787772             0.0          0.0             0.0             0.0  \n",
       "787773             0.0          0.0             0.0             0.0  \n",
       "787774             0.0          0.0             0.0             0.0  \n",
       "787775             0.0          0.0             0.0             0.0  \n",
       "787776             0.0          0.0             0.0             0.0  \n",
       "\n",
       "[787777 rows x 46 columns]"
      ]
     },
     "execution_count": 6,
     "metadata": {},
     "output_type": "execute_result"
    }
   ],
   "source": [
    "data = data.reset_index().drop(\"index\", axis = 1)\n",
    "data"
   ]
  },
  {
   "cell_type": "markdown",
   "metadata": {},
   "source": [
    "## EDA"
   ]
  },
  {
   "cell_type": "markdown",
   "metadata": {},
   "source": [
    "The target variable is CPU Efficiency.\n",
    "\n",
    "An ideal efficient job should use as close as possible to 100%, however realistically we define efficient CPU utilisation as above 75% of requested CPU cores.\n",
    "\n",
    "**CPU_EFF = (USED_CPUTIME / USED_WALLTIME) / REQUESTED_NCPUS**\n",
    "\n",
    "For this project I use Neural Networks to predict job efficiency. I will model this problem first as a regression, then as a classification task. \n"
   ]
  },
  {
   "cell_type": "code",
   "execution_count": 7,
   "metadata": {
    "scrolled": true
   },
   "outputs": [
    {
     "data": {
      "text/plain": [
       "0    0.037500\n",
       "1    0.078125\n",
       "2    0.033333\n",
       "3    0.030000\n",
       "4    0.069444\n",
       "Name: cpu_eff, dtype: float64"
      ]
     },
     "execution_count": 7,
     "metadata": {},
     "output_type": "execute_result"
    }
   ],
   "source": [
    "#create target variable - CPU Efficiency\n",
    "data[\"cpu_eff\"] = (data[\"resources_used.cput\"] / data[\"resources_used.walltime\"] )/data[\"Resource_List.ncpus\"]\n",
    "data[\"cpu_eff\"].head()"
   ]
  },
  {
   "cell_type": "code",
   "execution_count": 8,
   "metadata": {
    "scrolled": true
   },
   "outputs": [
    {
     "data": {
      "text/plain": [
       "count    787776.000000\n",
       "mean          0.105315\n",
       "std           0.186706\n",
       "min           0.000000\n",
       "25%           0.033333\n",
       "50%           0.042857\n",
       "75%           0.083333\n",
       "max          10.786887\n",
       "Name: cpu_eff, dtype: float64"
      ]
     },
     "execution_count": 8,
     "metadata": {},
     "output_type": "execute_result"
    }
   ],
   "source": [
    "data[\"cpu_eff\"].describe()"
   ]
  },
  {
   "cell_type": "markdown",
   "metadata": {},
   "source": [
    "The max value for efficiency is 10 - which is greater than 1.These might be outliers or anomalies."
   ]
  },
  {
   "cell_type": "code",
   "execution_count": 9,
   "metadata": {},
   "outputs": [
    {
     "name": "stdout",
     "output_type": "stream",
     "text": [
      "0.7849937228428857 % of the data is potentially anomalous\n"
     ]
    }
   ],
   "source": [
    "anomalies = list(filter(lambda x : x>1, data[\"cpu_eff\"]))\n",
    "print(len(anomalies)/len(data[\"cpu_eff\"])*100, \"% of the data is potentially anomalous\") "
   ]
  },
  {
   "cell_type": "markdown",
   "metadata": {},
   "source": [
    "Since the anomalous data makes up less than 1% of the dataset, we simply drop the anomalous values with efficiency > 100%"
   ]
  },
  {
   "cell_type": "code",
   "execution_count": 10,
   "metadata": {},
   "outputs": [],
   "source": [
    "data = data[data[\"cpu_eff\"] <= 1].reset_index().drop(\"index\", axis=1)"
   ]
  },
  {
   "cell_type": "code",
   "execution_count": 11,
   "metadata": {},
   "outputs": [
    {
     "data": {
      "image/png": "[encoded data removed]",
      "text/plain": [
       "<Figure size 432x288 with 1 Axes>"
      ]
     },
     "metadata": {
      "needs_background": "light"
     },
     "output_type": "display_data"
    }
   ],
   "source": [
    "#distribution of efficiency\n",
    "ax = plt.hist(data[\"cpu_eff\"], bins=[0,0.1,0.2,0.3,0.4,0.5,0.6,0.7,0.8,0.9,1])"
   ]
  },
  {
   "cell_type": "markdown",
   "metadata": {},
   "source": [
    "Majority of the data points lie between 0 and 1. The bin with the most data points is 0 to 0.1.\n",
    "We can use the histogram data to do stratified sampling for the train and testing set."
   ]
  },
  {
   "cell_type": "code",
   "execution_count": 12,
   "metadata": {},
   "outputs": [],
   "source": [
    "def binner(col):\n",
    "    return [int(c*10) if c*10<=10 else 11 for c in col ]"
   ]
  },
  {
   "cell_type": "code",
   "execution_count": 13,
   "metadata": {},
   "outputs": [
    {
     "data": {
      "text/plain": [
       "0    0\n",
       "1    0\n",
       "2    0\n",
       "3    0\n",
       "4    0\n",
       "Name: eff_bin, dtype: int64"
      ]
     },
     "execution_count": 13,
     "metadata": {},
     "output_type": "execute_result"
    }
   ],
   "source": [
    "data[\"eff_bin\"] = binner(data[\"cpu_eff\"].copy())\n",
    "data[\"eff_bin\"].head()"
   ]
  },
  {
   "cell_type": "markdown",
   "metadata": {},
   "source": [
    "Next, we want to drop the resources_used columns because they cannot be known before a job is run. They should be excluded from training."
   ]
  },
  {
   "cell_type": "code",
   "execution_count": 16,
   "metadata": {},
   "outputs": [],
   "source": [
    "to_drop = [col for col in data.columns if \"used\" in col]\n",
    "data.drop(to_drop, axis =1, inplace= True)"
   ]
  },
  {
   "cell_type": "code",
   "execution_count": 17,
   "metadata": {},
   "outputs": [
    {
     "data": {
      "image/png": "[encoded data removed]",
      "text/plain": [
       "<Figure size 1080x576 with 2 Axes>"
      ]
     },
     "metadata": {
      "needs_background": "light"
     },
     "output_type": "display_data"
    }
   ],
   "source": [
    "# Finding relationships - start with corr plot\n",
    "corrMatrix = data.corr()\n",
    "plt.figure(figsize=(15,8))\n",
    "ax = sn.heatmap(corrMatrix)"
   ]
  },
  {
   "cell_type": "markdown",
   "metadata": {},
   "source": [
    "Observe that most of the features are uncorrelated with CPU efficiency, exccept for some with obviously negative correlations. In the rest of the columns, there is some collinearity ovserved. \n",
    "\n",
    "We should now inspect the last column (correlation with CPU efficiency) in more detail."
   ]
  },
  {
   "cell_type": "code",
   "execution_count": 18,
   "metadata": {
    "scrolled": true
   },
   "outputs": [
    {
     "data": {
      "text/plain": [
       "Resource_List.ncpus        -0.470001\n",
       "Resource_List.walltime     -0.462635\n",
       "Resource_List.mem          -0.397331\n",
       "wait_time                  -0.026285\n",
       "gpu1.mem_max                0.009563\n",
       "gpu3.mem_max                0.011353\n",
       "gpu2.mem_max                0.012066\n",
       "gpu0.mem_max                0.013160\n",
       "run_count                   0.020284\n",
       "gpu1.smUtil_avg             0.026133\n",
       "gpu3.smUtil_avg             0.028038\n",
       "gpu0.smUtil_avg             0.029083\n",
       "gpu1.smUtil_max             0.029356\n",
       "gpu3.smUtil_max             0.030914\n",
       "gpu0.smUtil_max             0.031755\n",
       "gpu2.smUtil_avg             0.033576\n",
       "gpu2.smUtil_max             0.035509\n",
       "Resource_List.ngpus         0.054674\n",
       "Resource_List.nodect        0.093544\n",
       "Resource_List.fluent_lic    0.124092\n",
       "Exit_status                 0.162145\n",
       "Resource_List.mpiprocs      0.272346\n",
       "eff_bin                     0.987690\n",
       "cpu_eff                     1.000000\n",
       "Name: cpu_eff, dtype: float64"
      ]
     },
     "execution_count": 18,
     "metadata": {},
     "output_type": "execute_result"
    }
   ],
   "source": [
    "cpu_rel = corrMatrix[\"cpu_eff\"].sort_values()\n",
    "cpu_rel"
   ]
  },
  {
   "cell_type": "markdown",
   "metadata": {},
   "source": [
    "We observe that most of the GPU Data is irrelevant. We will decide if they should be dropped later during feature selection."
   ]
  },
  {
   "cell_type": "markdown",
   "metadata": {},
   "source": [
    "## Data Preprocessing\n",
    "\n",
    "In this section we create a pipleine to transform and prepare our data for fitting into a neural network model."
   ]
  },
  {
   "cell_type": "code",
   "execution_count": 19,
   "metadata": {},
   "outputs": [],
   "source": [
    "#creating train test split\n",
    "from sklearn.model_selection import StratifiedShuffleSplit\n",
    "split = StratifiedShuffleSplit(n_splits=1, test_size=0.2, random_state=42)"
   ]
  },
  {
   "cell_type": "code",
   "execution_count": 20,
   "metadata": {},
   "outputs": [],
   "source": [
    "for train_index, test_index in split.split(data, data[\"eff_bin\"]):\n",
    "    strat_train_set = data.loc[train_index]\n",
    "    strat_test_set = data.loc[test_index]"
   ]
  },
  {
   "cell_type": "code",
   "execution_count": 21,
   "metadata": {},
   "outputs": [],
   "source": [
    "y_train = data.loc[train_index][\"cpu_eff\"]\n",
    "y_test = data.loc[test_index][\"cpu_eff\"]"
   ]
  },
  {
   "cell_type": "code",
   "execution_count": 22,
   "metadata": {},
   "outputs": [
    {
     "data": {
      "text/plain": [
       "Series([], Name: cpu_eff, dtype: float64)"
      ]
     },
     "execution_count": 22,
     "metadata": {},
     "output_type": "execute_result"
    }
   ],
   "source": [
    "data[\"cpu_eff\"][data[\"cpu_eff\"].isna()]"
   ]
  },
  {
   "cell_type": "code",
   "execution_count": 23,
   "metadata": {},
   "outputs": [],
   "source": [
    "data= data.drop([\"cpu_eff\",\"eff_bin\"], axis =1)"
   ]
  },
  {
   "cell_type": "code",
   "execution_count": 24,
   "metadata": {},
   "outputs": [],
   "source": [
    "#use pipelines for data processing\n",
    "from sklearn.base import BaseEstimator, TransformerMixin\n",
    "from sklearn.preprocessing import LabelEncoder\n",
    "from sklearn.pipeline import FeatureUnion, Pipeline \n",
    "from sklearn.preprocessing import StandardScaler\n",
    "from sklearn.impute import SimpleImputer\n",
    "\n",
    "\n",
    "class DataFrameSelector(BaseEstimator, TransformerMixin): \n",
    "    def __init__(self, attribute_names):\n",
    "        self.attribute_names = attribute_names\n",
    "    def fit(self, X, y=None):\n",
    "        return self\n",
    "    def transform(self, X):\n",
    "        return X[self.attribute_names].values\n",
    "    \n",
    "class DataFrameSelectorCat(BaseEstimator, TransformerMixin): \n",
    "    def __init__(self, attribute_names):\n",
    "        self.attribute_names = attribute_names\n",
    "    def fit(self, X, y=None):\n",
    "        return self\n",
    "    def transform(self, X):\n",
    "        return X[self.attribute_names].values.astype(str)\n",
    "\n",
    "class CustomLabelBinarizer(BaseEstimator, TransformerMixin):\n",
    "    def __init__(self, sparse_output=False):\n",
    "        self.sparse_output = sparse_output\n",
    "    def fit(self, X, y=None):\n",
    "        return self\n",
    "    def transform(self, X, y=None):\n",
    "        for i,col in enumerate(X):\n",
    "                X[i] = LabelEncoder().fit_transform(col)\n",
    "        return X"
   ]
  },
  {
   "cell_type": "code",
   "execution_count": 25,
   "metadata": {
    "scrolled": true
   },
   "outputs": [
    {
     "data": {
      "text/plain": [
       "['Exit_status',\n",
       " 'Resource_List.fluent_lic',\n",
       " 'Resource_List.mem',\n",
       " 'Resource_List.mpiprocs',\n",
       " 'Resource_List.ncpus',\n",
       " 'Resource_List.ngpus',\n",
       " 'Resource_List.nodect',\n",
       " 'Resource_List.walltime',\n",
       " 'run_count',\n",
       " 'wait_time',\n",
       " 'gpu0.mem_max',\n",
       " 'gpu0.smUtil_avg',\n",
       " 'gpu0.smUtil_max',\n",
       " 'gpu1.mem_max',\n",
       " 'gpu1.smUtil_avg',\n",
       " 'gpu1.smUtil_max',\n",
       " 'gpu2.mem_max',\n",
       " 'gpu2.smUtil_avg',\n",
       " 'gpu2.smUtil_max',\n",
       " 'gpu3.mem_max',\n",
       " 'gpu3.smUtil_avg',\n",
       " 'gpu3.smUtil_max']"
      ]
     },
     "execution_count": 25,
     "metadata": {},
     "output_type": "execute_result"
    }
   ],
   "source": [
    "#get numerical columns\n",
    "numerical = list(filter(lambda y: y,map(lambda x: x if data[x].dtype!= object else None, data.columns)))\n",
    "numerical"
   ]
  },
  {
   "cell_type": "code",
   "execution_count": 26,
   "metadata": {},
   "outputs": [
    {
     "data": {
      "text/plain": [
       "['user',\n",
       " 'dept',\n",
       " 'queue',\n",
       " 'cluster',\n",
       " 'ctime',\n",
       " 'datetime',\n",
       " 'end',\n",
       " 'etime',\n",
       " 'exec_host',\n",
       " 'exec_vnode',\n",
       " 'group',\n",
       " 'job_id',\n",
       " 'qtime',\n",
       " 'start',\n",
       " 'status']"
      ]
     },
     "execution_count": 26,
     "metadata": {},
     "output_type": "execute_result"
    }
   ],
   "source": [
    "#get categorical columns\n",
    "categorical = list(filter(lambda y: y,map(lambda x: x if data[x].dtype== object else None, data.columns)))\n",
    "categorical"
   ]
  },
  {
   "cell_type": "code",
   "execution_count": 27,
   "metadata": {
    "scrolled": true
   },
   "outputs": [
    {
     "name": "stdout",
     "output_type": "stream",
     "text": [
      "user 251\n",
      "dept 37\n",
      "queue 19\n",
      "cluster 9\n",
      "ctime 27031\n",
      "datetime 569007\n",
      "end 569007\n",
      "etime 27304\n",
      "exec_host 1537\n",
      "exec_vnode 3246\n",
      "group 2\n",
      "job_id 781592\n",
      "qtime 27104\n",
      "start 582041\n",
      "status 1\n",
      "['ctime', 'datetime', 'end', 'etime', 'exec_host', 'exec_vnode', 'job_id', 'qtime', 'start']\n"
     ]
    }
   ],
   "source": [
    "#drop columns from df which should not be label encoded\n",
    "notcat = []\n",
    "for column in categorical:\n",
    "    c = data[column].nunique()\n",
    "    print(column, c)\n",
    "    if c > 300:\n",
    "        notcat.append(column)\n",
    "print(notcat)"
   ]
  },
  {
   "cell_type": "code",
   "execution_count": 28,
   "metadata": {},
   "outputs": [],
   "source": [
    "#datetime is most likely irrelevant in this problem. \n",
    "#exec host and vnode is also most likely irrelevant\n",
    "data = data.drop(notcat, axis =1)"
   ]
  },
  {
   "cell_type": "code",
   "execution_count": 29,
   "metadata": {},
   "outputs": [],
   "source": [
    "categorical = list(filter(lambda x: x not in notcat, categorical))"
   ]
  },
  {
   "cell_type": "code",
   "execution_count": 30,
   "metadata": {},
   "outputs": [],
   "source": [
    "num_pipeline = Pipeline([\n",
    "    ('selector', DataFrameSelector(numerical)),\n",
    "    ('imputer', SimpleImputer(strategy=\"median\")),\n",
    "    ('std_scaler', StandardScaler()),\n",
    "    ])\n",
    "cat_pipeline = Pipeline([\n",
    "    ('selector', DataFrameSelectorCat(categorical)),\n",
    "    ('label_binarizer', CustomLabelBinarizer()),\n",
    "    ])\n",
    "full_pipeline = FeatureUnion(transformer_list=[\n",
    "    (\"num_pipeline\", num_pipeline),\n",
    "    (\"cat_pipeline\", cat_pipeline),\n",
    "    ])"
   ]
  },
  {
   "cell_type": "markdown",
   "metadata": {},
   "source": [
    "After constructing the pipeline, we transform the data and split the data into train and test sets"
   ]
  },
  {
   "cell_type": "code",
   "execution_count": 31,
   "metadata": {},
   "outputs": [],
   "source": [
    "#fit data\n",
    "pbs = full_pipeline.fit_transform(data)"
   ]
  },
  {
   "cell_type": "code",
   "execution_count": 32,
   "metadata": {},
   "outputs": [],
   "source": [
    "X_train = pbs[train_index]\n",
    "X_test = pbs[test_index]"
   ]
  },
  {
   "cell_type": "markdown",
   "metadata": {},
   "source": [
    "## Feature Selection/Engineering"
   ]
  },
  {
   "cell_type": "markdown",
   "metadata": {},
   "source": [
    "There are more than 700k rows in the data, and >30 features for each data point. To increase training speed, we only choose the top 10 most important features in prediciting efficiency.\n",
    "\n",
    "We employ a statistical technique cakked F-test to find the p-values of each regressor on the cpu effficiency. The top 10 (smallest) p-value features are used to train the neural network later on."
   ]
  },
  {
   "cell_type": "code",
   "execution_count": 33,
   "metadata": {},
   "outputs": [
    {
     "data": {
      "text/plain": [
       "array([False])"
      ]
     },
     "execution_count": 33,
     "metadata": {},
     "output_type": "execute_result"
    }
   ],
   "source": [
    "np.unique(np.isnan(y_test))"
   ]
  },
  {
   "cell_type": "code",
   "execution_count": 34,
   "metadata": {
    "scrolled": true
   },
   "outputs": [
    {
     "name": "stderr",
     "output_type": "stream",
     "text": [
      "C:\\Users\\reonh\\Anaconda3\\lib\\site-packages\\sklearn\\utils\\validation.py:755: FutureWarning: Beginning in version 0.22, arrays of bytes/strings will be converted to decimal numbers if dtype='numeric'. It is recommended that you convert the array to a float dtype before using it in scikit-learn, for example by using your_array = your_array.astype(np.float64).\n",
      "  estimator=estimator)\n"
     ]
    }
   ],
   "source": [
    "#use linear regression to select k best features by their F score \n",
    "from sklearn.feature_selection import f_regression\n",
    "from sklearn.feature_selection import SelectKBest\n",
    "\n",
    "selector = SelectKBest(score_func=f_regression, k=10)\n",
    "X_train_10 = selector.fit_transform(X_train, y_train)"
   ]
  },
  {
   "cell_type": "code",
   "execution_count": 51,
   "metadata": {},
   "outputs": [
    {
     "name": "stdout",
     "output_type": "stream",
     "text": [
      "We have reduced the number of features from 28 to 10\n"
     ]
    }
   ],
   "source": [
    "print(\"We have reduced the number of features from \" + str(len(X_train[0])) + \" to 10\")"
   ]
  },
  {
   "cell_type": "markdown",
   "metadata": {},
   "source": [
    "Save feature selection into pipeline."
   ]
  },
  {
   "cell_type": "code",
   "execution_count": 144,
   "metadata": {},
   "outputs": [],
   "source": [
    "import joblib\n",
    "from sklearn.pipeline import make_pipeline"
   ]
  },
  {
   "cell_type": "code",
   "execution_count": 139,
   "metadata": {},
   "outputs": [],
   "source": [
    "class KBestSelector(BaseEstimator, TransformerMixin): \n",
    "    def __init__(self, attributes):\n",
    "        self.attributes = attributes\n",
    "    def fit(self, X, y=None):\n",
    "        return self\n",
    "    def transform(self, X):\n",
    "        return X[:,self.attributes].astype(float)"
   ]
  },
  {
   "cell_type": "code",
   "execution_count": 146,
   "metadata": {},
   "outputs": [
    {
     "data": {
      "text/plain": [
       "Pipeline(memory=None,\n",
       "         steps=[('featureunion',\n",
       "                 FeatureUnion(n_jobs=None,\n",
       "                              transformer_list=[('num_pipeline',\n",
       "                                                 Pipeline(memory=None,\n",
       "                                                          steps=[('selector',\n",
       "                                                                  DataFrameSelector(attribute_names=['Exit_status',\n",
       "                                                                                                     'Resource_List.fluent_lic',\n",
       "                                                                                                     'Resource_List.mem',\n",
       "                                                                                                     'Resource_List.mpiprocs',\n",
       "                                                                                                     'Resource_List.ncpus',\n",
       "                                                                                                     'Resource_List.ngpus',\n",
       "                                                                                                     'Resource_List.nodect',\n",
       "                                                                                                     'Resource_List.wall...\n",
       "                                                                                                        'status'])),\n",
       "                                                                 ('label_binarizer',\n",
       "                                                                  CustomLabelBinarizer(sparse_output=False))],\n",
       "                                                          verbose=False))],\n",
       "                              transformer_weights=None, verbose=False)),\n",
       "                ('kbestselector',\n",
       "                 KBestSelector(attributes=array([False, False,  True,  True,  True, False, False,  True, False,\n",
       "       False, False, False, False, False, False, False, False, False,\n",
       "       False, False, False, False,  True,  True,  True,  True,  True,\n",
       "        True])))],\n",
       "         verbose=False)"
      ]
     },
     "execution_count": 146,
     "metadata": {},
     "output_type": "execute_result"
    }
   ],
   "source": [
    "#add select kbest to pipeline for saving purposes\n",
    "save_pipeline = make_pipeline(full_pipeline,KBestSelector(selector.get_support()))\n",
    "save_pipeline"
   ]
  },
  {
   "cell_type": "code",
   "execution_count": 147,
   "metadata": {},
   "outputs": [
    {
     "data": {
      "text/plain": [
       "['transformer.pkl']"
      ]
     },
     "execution_count": 147,
     "metadata": {},
     "output_type": "execute_result"
    }
   ],
   "source": [
    "joblib.dump(save_pipeline, 'transformer.pkl', compress = 1)"
   ]
  },
  {
   "cell_type": "markdown",
   "metadata": {},
   "source": [
    "## Model Development"
   ]
  },
  {
   "cell_type": "markdown",
   "metadata": {},
   "source": [
    "I am using Keras to create the Dense Neural Network model. The following model is created for the regression task of predicting cpu efficiency"
   ]
  },
  {
   "cell_type": "code",
   "execution_count": 42,
   "metadata": {},
   "outputs": [],
   "source": [
    "from tensorflow.python.keras.models import Sequential\n",
    "from tensorflow.python.keras.layers import Dense\n",
    "from tensorflow.python.keras.wrappers.scikit_learn import KerasRegressor"
   ]
  },
  {
   "cell_type": "code",
   "execution_count": 43,
   "metadata": {
    "scrolled": true
   },
   "outputs": [
    {
     "name": "stdout",
     "output_type": "stream",
     "text": [
      "Model: \"sequential\"\n",
      "_________________________________________________________________\n",
      "Layer (type)                 Output Shape              Param #   \n",
      "=================================================================\n",
      "dense (Dense)                (None, 12)                132       \n",
      "_________________________________________________________________\n",
      "dense_1 (Dense)              (None, 8)                 104       \n",
      "_________________________________________________________________\n",
      "dense_2 (Dense)              (None, 1)                 9         \n",
      "=================================================================\n",
      "Total params: 245\n",
      "Trainable params: 245\n",
      "Non-trainable params: 0\n",
      "_________________________________________________________________\n"
     ]
    }
   ],
   "source": [
    "model = Sequential()\n",
    "model.add(Dense(12, input_dim=10, kernel_initializer='normal', activation='relu'))\n",
    "model.add(Dense(8, activation='relu'))\n",
    "model.add(Dense(1, activation='linear'))\n",
    "model.summary()\n",
    "model.compile(loss='mse', optimizer='adam', metrics=['mse','mae'])"
   ]
  },
  {
   "cell_type": "markdown",
   "metadata": {},
   "source": [
    "## Training 1.0"
   ]
  },
  {
   "cell_type": "code",
   "execution_count": 44,
   "metadata": {
    "scrolled": true
   },
   "outputs": [
    {
     "name": "stdout",
     "output_type": "stream",
     "text": [
      "Train on 500218 samples, validate on 125055 samples\n",
      "Epoch 1/3\n",
      "500218/500218 [==============================] - 298s 595us/sample - loss: 0.0111 - mse: 0.0111 - mae: 0.0482 - val_loss: 0.0108 - val_mse: 0.0108 - val_mae: 0.0473\n",
      "Epoch 2/3\n",
      "500218/500218 [==============================] - 313s 626us/sample - loss: 0.0106 - mse: 0.0106 - mae: 0.0469 - val_loss: 0.0106 - val_mse: 0.0106 - val_mae: 0.0453\n",
      "Epoch 3/3\n",
      "500218/500218 [==============================] - 301s 602us/sample - loss: 0.0106 - mse: 0.0106 - mae: 0.0468 - val_loss: 0.0106 - val_mse: 0.0106 - val_mae: 0.0467\n"
     ]
    }
   ],
   "source": [
    "nn = model.fit(X_train_10.astype(float), np.array(y_train), epochs=3, batch_size=2,  verbose=1, validation_split=0.2)"
   ]
  },
  {
   "cell_type": "code",
   "execution_count": 110,
   "metadata": {},
   "outputs": [],
   "source": [
    "X_test_10 = X_test[:,selector.get_support()].astype(float)"
   ]
  },
  {
   "cell_type": "code",
   "execution_count": 111,
   "metadata": {},
   "outputs": [],
   "source": [
    "y_pred = model.predict(X_test_10)"
   ]
  },
  {
   "cell_type": "markdown",
   "metadata": {},
   "source": [
    "## Evaluation - Regression\n",
    "\n",
    "Evaluate your model's performance using relevant metrics"
   ]
  },
  {
   "cell_type": "code",
   "execution_count": 109,
   "metadata": {},
   "outputs": [
    {
     "data": {
      "text/plain": [
       "0.010471973555745325"
      ]
     },
     "execution_count": 109,
     "metadata": {},
     "output_type": "execute_result"
    }
   ],
   "source": [
    "from sklearn.metrics import mean_squared_error\n",
    "mean_squared_error(y_test, y_pred, sample_weight=None, multioutput='uniform_average', squared=True)"
   ]
  },
  {
   "cell_type": "markdown",
   "metadata": {},
   "source": [
    "An RMSE of 0.0109 is a mean squared error of 1% efficiency for each prediction. Not bad."
   ]
  },
  {
   "cell_type": "code",
   "execution_count": 48,
   "metadata": {
    "scrolled": true
   },
   "outputs": [
    {
     "data": {
      "text/plain": [
       "array([[0.03770514],\n",
       "       [0.16510406],\n",
       "       [0.04577294],\n",
       "       ...,\n",
       "       [0.03770514],\n",
       "       [0.04577294],\n",
       "       [0.03770514]], dtype=float32)"
      ]
     },
     "execution_count": 48,
     "metadata": {},
     "output_type": "execute_result"
    }
   ],
   "source": [
    "y_pred"
   ]
  },
  {
   "cell_type": "markdown",
   "metadata": {},
   "source": [
    "We plot the fitted distribution against the actual distribution below to observe the difference in spread of values."
   ]
  },
  {
   "cell_type": "code",
   "execution_count": 49,
   "metadata": {},
   "outputs": [
    {
     "data": {
      "image/png": "[encoded data removed]",
      "text/plain": [
       "<Figure size 432x288 with 1 Axes>"
      ]
     },
     "metadata": {
      "needs_background": "light"
     },
     "output_type": "display_data"
    }
   ],
   "source": [
    "ax1 = sn.distplot(y_test, hist=False, color=\"r\", label=\"Actual Values\")\n",
    "ax1 = sn.distplot(y_pred, hist=False, color=\"b\", label=\"Fitted Values\" , ax=ax1)"
   ]
  },
  {
   "cell_type": "markdown",
   "metadata": {},
   "source": [
    "The spread of values looks about right.\n",
    "\n",
    "Next, we use the output from the Neural Network for classification."
   ]
  },
  {
   "cell_type": "markdown",
   "metadata": {},
   "source": [
    "## Evaluation - Classification"
   ]
  },
  {
   "cell_type": "code",
   "execution_count": 53,
   "metadata": {},
   "outputs": [],
   "source": [
    "# define inefficient tasks as tasks with < 75% efficiency\n",
    "y_testc = y_test > 0.75\n",
    "y_testc = LabelEncoder().fit_transform(y_testc)"
   ]
  },
  {
   "cell_type": "code",
   "execution_count": 54,
   "metadata": {},
   "outputs": [],
   "source": [
    "from sklearn.metrics import classification_report\n",
    "from sklearn.metrics import confusion_matrix"
   ]
  },
  {
   "cell_type": "code",
   "execution_count": 55,
   "metadata": {},
   "outputs": [
    {
     "name": "stderr",
     "output_type": "stream",
     "text": [
      "C:\\Users\\reonh\\Anaconda3\\lib\\site-packages\\sklearn\\preprocessing\\_label.py:251: DataConversionWarning: A column-vector y was passed when a 1d array was expected. Please change the shape of y to (n_samples, ), for example using ravel().\n",
      "  y = column_or_1d(y, warn=True)\n"
     ]
    }
   ],
   "source": [
    "ypredc = y_pred > 0.75\n",
    "ypredc = LabelEncoder().fit_transform(ypredc)"
   ]
  },
  {
   "cell_type": "code",
   "execution_count": 56,
   "metadata": {},
   "outputs": [
    {
     "data": {
      "text/html": [
       "<div>\n",
       "<style scoped>\n",
       "    .dataframe tbody tr th:only-of-type {\n",
       "        vertical-align: middle;\n",
       "    }\n",
       "\n",
       "    .dataframe tbody tr th {\n",
       "        vertical-align: top;\n",
       "    }\n",
       "\n",
       "    .dataframe thead th {\n",
       "        text-align: right;\n",
       "    }\n",
       "</style>\n",
       "<table border=\"1\" class=\"dataframe\">\n",
       "  <thead>\n",
       "    <tr style=\"text-align: right;\">\n",
       "      <th></th>\n",
       "      <th>0</th>\n",
       "      <th>1</th>\n",
       "    </tr>\n",
       "  </thead>\n",
       "  <tbody>\n",
       "    <tr>\n",
       "      <td>0</td>\n",
       "      <td>153980</td>\n",
       "      <td>22</td>\n",
       "    </tr>\n",
       "    <tr>\n",
       "      <td>1</td>\n",
       "      <td>2165</td>\n",
       "      <td>152</td>\n",
       "    </tr>\n",
       "  </tbody>\n",
       "</table>\n",
       "</div>"
      ],
      "text/plain": [
       "        0    1\n",
       "0  153980   22\n",
       "1    2165  152"
      ]
     },
     "execution_count": 56,
     "metadata": {},
     "output_type": "execute_result"
    }
   ],
   "source": [
    "pd.DataFrame(confusion_matrix(y_testc, ypredc))"
   ]
  },
  {
   "cell_type": "code",
   "execution_count": 57,
   "metadata": {},
   "outputs": [
    {
     "name": "stdout",
     "output_type": "stream",
     "text": [
      "True Negative 153980\n",
      "True Positive 152\n",
      "False Negative 2165\n",
      "False Positive 22\n"
     ]
    }
   ],
   "source": [
    "tn, fp, fn, tp = confusion_matrix(y_testc, ypredc).ravel()\n",
    "print(\"True Negative\", tn)\n",
    "print(\"True Positive\", tp)\n",
    "print(\"False Negative\", fn)\n",
    "print(\"False Positive\", fp)"
   ]
  },
  {
   "cell_type": "code",
   "execution_count": 58,
   "metadata": {},
   "outputs": [
    {
     "name": "stdout",
     "output_type": "stream",
     "text": [
      "              precision    recall  f1-score   support\n",
      "\n",
      "           0       0.99      1.00      0.99    154002\n",
      "           1       0.87      0.07      0.12      2317\n",
      "\n",
      "    accuracy                           0.99    156319\n",
      "   macro avg       0.93      0.53      0.56    156319\n",
      "weighted avg       0.98      0.99      0.98    156319\n",
      "\n"
     ]
    }
   ],
   "source": [
    "print(classification_report(y_testc, ypredc, labels=None, target_names=None, sample_weight=None, digits=2, output_dict=False, zero_division='warn'))"
   ]
  },
  {
   "cell_type": "markdown",
   "metadata": {},
   "source": [
    "The model accuracy here is misleading. A huge proportion of the data is inefficient, so simply predicting everything as inefficient would yield very high accuracy scores. The model is not able to detect when a data point is in fact efficient - as evidenced by the low recall. The confusion matrix also shows a higher false negative rate than true positive rate, meaning the neural network is really unable to distinguish efficiency.\n",
    "\n",
    "The F1-Score is of interest here - it is the harmonic mean of precision and recall. A high F1-Score means our model is good at discerning between efficient and inefficient jobs.\n",
    "\n",
    "We can try to improve upon our model by sampling the data again to make the 2 classes more balanced, and training another neural network. "
   ]
  },
  {
   "cell_type": "markdown",
   "metadata": {},
   "source": [
    "## Training 2.0 - Resampling"
   ]
  },
  {
   "cell_type": "markdown",
   "metadata": {},
   "source": [
    "I use undersampling of inefficient jobs to resample the data. "
   ]
  },
  {
   "cell_type": "code",
   "execution_count": 59,
   "metadata": {},
   "outputs": [
    {
     "data": {
      "text/plain": [
       "count     625273\n",
       "unique         2\n",
       "top        False\n",
       "freq      616021\n",
       "Name: cpu_eff, dtype: object"
      ]
     },
     "execution_count": 59,
     "metadata": {},
     "output_type": "execute_result"
    }
   ],
   "source": [
    "y_trainc = y_train>0.75\n",
    "y_trainc.describe()"
   ]
  },
  {
   "cell_type": "code",
   "execution_count": 60,
   "metadata": {},
   "outputs": [],
   "source": [
    "y_efficient = y_trainc[y_trainc]"
   ]
  },
  {
   "cell_type": "code",
   "execution_count": 61,
   "metadata": {},
   "outputs": [
    {
     "data": {
      "text/plain": [
       "9252"
      ]
     },
     "execution_count": 61,
     "metadata": {},
     "output_type": "execute_result"
    }
   ],
   "source": [
    "len(y_efficient)"
   ]
  },
  {
   "cell_type": "code",
   "execution_count": 62,
   "metadata": {},
   "outputs": [],
   "source": [
    "y_inefficient = y_trainc[~y_trainc].sample(len(y_efficient))"
   ]
  },
  {
   "cell_type": "code",
   "execution_count": 63,
   "metadata": {},
   "outputs": [],
   "source": [
    "y_undersample = pd.concat([y_inefficient, y_efficient], axis=0)"
   ]
  },
  {
   "cell_type": "code",
   "execution_count": 64,
   "metadata": {},
   "outputs": [],
   "source": [
    "y_train_undersample = y_train[np.sort(y_undersample.index)] "
   ]
  },
  {
   "cell_type": "code",
   "execution_count": 65,
   "metadata": {},
   "outputs": [],
   "source": [
    "X_train_undersample = pbs[np.array(np.sort((y_undersample.index)))]"
   ]
  },
  {
   "cell_type": "code",
   "execution_count": 66,
   "metadata": {},
   "outputs": [],
   "source": [
    "X_train_10_undersample = X_train_undersample[:,selector.get_support()].astype(float)"
   ]
  },
  {
   "cell_type": "code",
   "execution_count": 67,
   "metadata": {},
   "outputs": [
    {
     "data": {
      "text/plain": [
       "18504"
      ]
     },
     "execution_count": 67,
     "metadata": {},
     "output_type": "execute_result"
    }
   ],
   "source": [
    "len(X_train_10_undersample)"
   ]
  },
  {
   "cell_type": "markdown",
   "metadata": {},
   "source": [
    "### Classification Task v2\n",
    "\n",
    "Create a new model for this classifcation task, and adjust the following hyper parameters.\n",
    "\n",
    "1. Since this is a classifcation task, I changed the activation function to Sigmoid, and we will be aiming to minimise the binary cross entropy.\n",
    "2. Since we undersampled, the amount of data used has decreased significantly. We can add more layers and epochs without the computation time being excessive."
   ]
  },
  {
   "cell_type": "code",
   "execution_count": 68,
   "metadata": {},
   "outputs": [
    {
     "name": "stdout",
     "output_type": "stream",
     "text": [
      "Model: \"sequential_1\"\n",
      "_________________________________________________________________\n",
      "Layer (type)                 Output Shape              Param #   \n",
      "=================================================================\n",
      "dense_3 (Dense)              (None, 12)                132       \n",
      "_________________________________________________________________\n",
      "dense_4 (Dense)              (None, 8)                 104       \n",
      "_________________________________________________________________\n",
      "dense_5 (Dense)              (None, 8)                 72        \n",
      "_________________________________________________________________\n",
      "dense_6 (Dense)              (None, 1)                 9         \n",
      "=================================================================\n",
      "Total params: 317\n",
      "Trainable params: 317\n",
      "Non-trainable params: 0\n",
      "_________________________________________________________________\n"
     ]
    }
   ],
   "source": [
    "modelc = Sequential()\n",
    "modelc.add(Dense(12, input_dim=10, kernel_initializer='normal', activation='relu'))\n",
    "modelc.add(Dense(8, activation='relu'))\n",
    "modelc.add(Dense(8, activation='relu'))\n",
    "modelc.add(Dense(1, activation='sigmoid'))\n",
    "modelc.summary()\n",
    "modelc.compile(loss=\"binary_crossentropy\", optimizer=\"adam\", metrics=['accuracy'])"
   ]
  },
  {
   "cell_type": "code",
   "execution_count": 69,
   "metadata": {},
   "outputs": [
    {
     "name": "stdout",
     "output_type": "stream",
     "text": [
      "Train on 14803 samples, validate on 3701 samples\n",
      "Epoch 1/25\n",
      "14803/14803 [==============================] - 2s 164us/sample - loss: 0.2830 - accuracy: 0.8923 - val_loss: 0.1732 - val_accuracy: 0.9022\n",
      "Epoch 2/25\n",
      "14803/14803 [==============================] - 2s 134us/sample - loss: 0.2399 - accuracy: 0.9030 - val_loss: 0.1674 - val_accuracy: 0.9049\n",
      "Epoch 3/25\n",
      "14803/14803 [==============================] - 2s 128us/sample - loss: 0.2316 - accuracy: 0.9035 - val_loss: 0.1630 - val_accuracy: 0.9071\n",
      "Epoch 4/25\n",
      "14803/14803 [==============================] - 2s 119us/sample - loss: 0.2249 - accuracy: 0.9060 - val_loss: 0.1666 - val_accuracy: 0.9084\n",
      "Epoch 5/25\n",
      "14803/14803 [==============================] - 2s 121us/sample - loss: 0.2222 - accuracy: 0.9070 - val_loss: 0.1673 - val_accuracy: 0.9084\n",
      "Epoch 6/25\n",
      "14803/14803 [==============================] - 2s 125us/sample - loss: 0.2194 - accuracy: 0.9073 - val_loss: 0.1568 - val_accuracy: 0.9084\n",
      "Epoch 7/25\n",
      "14803/14803 [==============================] - 2s 128us/sample - loss: 0.2174 - accuracy: 0.9070 - val_loss: 0.1558 - val_accuracy: 0.9095\n",
      "Epoch 8/25\n",
      "14803/14803 [==============================] - 2s 126us/sample - loss: 0.2167 - accuracy: 0.9070 - val_loss: 0.1411 - val_accuracy: 0.9095\n",
      "Epoch 9/25\n",
      "14803/14803 [==============================] - 2s 124us/sample - loss: 0.2161 - accuracy: 0.9069 - val_loss: 0.1460 - val_accuracy: 0.9089\n",
      "Epoch 10/25\n",
      "14803/14803 [==============================] - 2s 120us/sample - loss: 0.2149 - accuracy: 0.9075 - val_loss: 0.1556 - val_accuracy: 0.9084\n",
      "Epoch 11/25\n",
      "14803/14803 [==============================] - 2s 120us/sample - loss: 0.2152 - accuracy: 0.9071 - val_loss: 0.1523 - val_accuracy: 0.9095\n",
      "Epoch 12/25\n",
      "14803/14803 [==============================] - 2s 123us/sample - loss: 0.2135 - accuracy: 0.9075 - val_loss: 0.1436 - val_accuracy: 0.9095\n",
      "Epoch 13/25\n",
      "14803/14803 [==============================] - 2s 122us/sample - loss: 0.2135 - accuracy: 0.9073 - val_loss: 0.1640 - val_accuracy: 0.9095\n",
      "Epoch 14/25\n",
      "14803/14803 [==============================] - 2s 125us/sample - loss: 0.2132 - accuracy: 0.9064 - val_loss: 0.1411 - val_accuracy: 0.9095\n",
      "Epoch 15/25\n",
      "14803/14803 [==============================] - 2s 125us/sample - loss: 0.2133 - accuracy: 0.9070 - val_loss: 0.1458 - val_accuracy: 0.9095\n",
      "Epoch 16/25\n",
      "14803/14803 [==============================] - 2s 129us/sample - loss: 0.2122 - accuracy: 0.9071 - val_loss: 0.1473 - val_accuracy: 0.9095\n",
      "Epoch 17/25\n",
      "14803/14803 [==============================] - 2s 120us/sample - loss: 0.2127 - accuracy: 0.9070 - val_loss: 0.1512 - val_accuracy: 0.9095\n",
      "Epoch 18/25\n",
      "14803/14803 [==============================] - 2s 122us/sample - loss: 0.2125 - accuracy: 0.9069 - val_loss: 0.1365 - val_accuracy: 0.9089\n",
      "Epoch 19/25\n",
      "14803/14803 [==============================] - 2s 120us/sample - loss: 0.2125 - accuracy: 0.9071 - val_loss: 0.1551 - val_accuracy: 0.9095\n",
      "Epoch 20/25\n",
      "14803/14803 [==============================] - 2s 118us/sample - loss: 0.2117 - accuracy: 0.9072 - val_loss: 0.1478 - val_accuracy: 0.9095\n",
      "Epoch 21/25\n",
      "14803/14803 [==============================] - 2s 119us/sample - loss: 0.2112 - accuracy: 0.9077 - val_loss: 0.1519 - val_accuracy: 0.9095\n",
      "Epoch 22/25\n",
      "14803/14803 [==============================] - 2s 119us/sample - loss: 0.2119 - accuracy: 0.9070 - val_loss: 0.1491 - val_accuracy: 0.9095\n",
      "Epoch 23/25\n",
      "14803/14803 [==============================] - 2s 121us/sample - loss: 0.2110 - accuracy: 0.9068 - val_loss: 0.1357 - val_accuracy: 0.9557\n",
      "Epoch 24/25\n",
      "14803/14803 [==============================] - 2s 118us/sample - loss: 0.2108 - accuracy: 0.9074 - val_loss: 0.1399 - val_accuracy: 0.9095\n",
      "Epoch 25/25\n",
      "14803/14803 [==============================] - 2s 129us/sample - loss: 0.2110 - accuracy: 0.9068 - val_loss: 0.1376 - val_accuracy: 0.9095\n"
     ]
    }
   ],
   "source": [
    "nnc = modelc.fit(X_train_10_undersample.astype(float), np.array(y_train_undersample > 0.75), epochs=25, batch_size=10,  verbose=1, validation_split=0.2)"
   ]
  },
  {
   "cell_type": "code",
   "execution_count": 73,
   "metadata": {},
   "outputs": [],
   "source": [
    "ypredc_undersample =  modelc.predict(X_test_10)"
   ]
  },
  {
   "cell_type": "code",
   "execution_count": 74,
   "metadata": {},
   "outputs": [],
   "source": [
    "ypredc_undersample = ypredc_undersample > 0.75"
   ]
  },
  {
   "cell_type": "code",
   "execution_count": 78,
   "metadata": {},
   "outputs": [
    {
     "name": "stdout",
     "output_type": "stream",
     "text": [
      "True Negative 151427\n",
      "True Positive 1343\n",
      "False Negative 974\n",
      "False Positive 2575\n"
     ]
    },
    {
     "data": {
      "text/html": [
       "<div>\n",
       "<style scoped>\n",
       "    .dataframe tbody tr th:only-of-type {\n",
       "        vertical-align: middle;\n",
       "    }\n",
       "\n",
       "    .dataframe tbody tr th {\n",
       "        vertical-align: top;\n",
       "    }\n",
       "\n",
       "    .dataframe thead th {\n",
       "        text-align: right;\n",
       "    }\n",
       "</style>\n",
       "<table border=\"1\" class=\"dataframe\">\n",
       "  <thead>\n",
       "    <tr style=\"text-align: right;\">\n",
       "      <th></th>\n",
       "      <th>0</th>\n",
       "      <th>1</th>\n",
       "    </tr>\n",
       "  </thead>\n",
       "  <tbody>\n",
       "    <tr>\n",
       "      <td>0</td>\n",
       "      <td>151427</td>\n",
       "      <td>2575</td>\n",
       "    </tr>\n",
       "    <tr>\n",
       "      <td>1</td>\n",
       "      <td>974</td>\n",
       "      <td>1343</td>\n",
       "    </tr>\n",
       "  </tbody>\n",
       "</table>\n",
       "</div>"
      ],
      "text/plain": [
       "        0     1\n",
       "0  151427  2575\n",
       "1     974  1343"
      ]
     },
     "execution_count": 78,
     "metadata": {},
     "output_type": "execute_result"
    }
   ],
   "source": [
    "tn, fp, fn, tp = confusion_matrix(y_testc, ypredc_undersample).ravel()\n",
    "print(\"True Negative\", tn)\n",
    "print(\"True Positive\", tp)\n",
    "print(\"False Negative\", fn)\n",
    "print(\"False Positive\", fp)\n",
    "pd.DataFrame(confusion_matrix(y_testc, ypredc_undersample))"
   ]
  },
  {
   "cell_type": "code",
   "execution_count": 79,
   "metadata": {},
   "outputs": [
    {
     "name": "stdout",
     "output_type": "stream",
     "text": [
      "              precision    recall  f1-score   support\n",
      "\n",
      "           0       0.99      0.98      0.99    154002\n",
      "           1       0.34      0.58      0.43      2317\n",
      "\n",
      "    accuracy                           0.98    156319\n",
      "   macro avg       0.67      0.78      0.71    156319\n",
      "weighted avg       0.98      0.98      0.98    156319\n",
      "\n"
     ]
    }
   ],
   "source": [
    "print(classification_report(y_testc, ypredc_undersample, labels=None, target_names=None, sample_weight=None, digits=2, output_dict=False, zero_division='warn'))"
   ]
  },
  {
   "cell_type": "markdown",
   "metadata": {},
   "source": [
    "The classification task using undersampled inefficient jobs yields a much higher recall, but lower precision. This means the model has correctly identified 58% of all efficient cases, but at the same time only 34% of all the cases it says are efficient were actually so.\n",
    "\n",
    "We proceed to train a regression task using the undersampled data as well."
   ]
  },
  {
   "cell_type": "markdown",
   "metadata": {},
   "source": [
    "### Regression Task v2\n",
    "We use the same model architecture as before (same layers and activation functions) but with the undersampled data as the training set. Because the amount of data has reduced drastically, we also ramp up the number of training epochs, and add more layers."
   ]
  },
  {
   "cell_type": "code",
   "execution_count": 116,
   "metadata": {},
   "outputs": [
    {
     "name": "stdout",
     "output_type": "stream",
     "text": [
      "Model: \"sequential_3\"\n",
      "_________________________________________________________________\n",
      "Layer (type)                 Output Shape              Param #   \n",
      "=================================================================\n",
      "dense_10 (Dense)             (None, 12)                132       \n",
      "_________________________________________________________________\n",
      "dense_11 (Dense)             (None, 8)                 104       \n",
      "_________________________________________________________________\n",
      "dense_12 (Dense)             (None, 8)                 72        \n",
      "_________________________________________________________________\n",
      "dense_13 (Dense)             (None, 8)                 72        \n",
      "_________________________________________________________________\n",
      "dense_14 (Dense)             (None, 1)                 9         \n",
      "=================================================================\n",
      "Total params: 389\n",
      "Trainable params: 389\n",
      "Non-trainable params: 0\n",
      "_________________________________________________________________\n"
     ]
    }
   ],
   "source": [
    "model2 = Sequential()\n",
    "model2.add(Dense(12, input_dim=10, kernel_initializer='normal', activation='relu'))\n",
    "model2.add(Dense(8, activation='relu'))\n",
    "model2.add(Dense(8, activation='relu'))\n",
    "model2.add(Dense(8, activation='relu'))\n",
    "model2.add(Dense(1, activation='linear'))\n",
    "model2.summary()\n",
    "model2.compile(loss='mse', optimizer='adam', metrics=['mse','mae'])"
   ]
  },
  {
   "cell_type": "code",
   "execution_count": 117,
   "metadata": {},
   "outputs": [
    {
     "name": "stdout",
     "output_type": "stream",
     "text": [
      "Train on 14803 samples, validate on 3701 samples\n",
      "Epoch 1/25\n",
      "14803/14803 [==============================] - 2s 147us/sample - loss: 0.0611 - mse: 0.0611 - mae: 0.1520 - val_loss: 0.0367 - val_mse: 0.0367 - val_mae: 0.1005\n",
      "Epoch 2/25\n",
      "14803/14803 [==============================] - 2s 120us/sample - loss: 0.0345 - mse: 0.0345 - mae: 0.1102 - val_loss: 0.0375 - val_mse: 0.0375 - val_mae: 0.1031\n",
      "Epoch 3/25\n",
      "14803/14803 [==============================] - 2s 126us/sample - loss: 0.0325 - mse: 0.0325 - mae: 0.1054 - val_loss: 0.0317 - val_mse: 0.0317 - val_mae: 0.0856\n",
      "Epoch 4/25\n",
      "14803/14803 [==============================] - 2s 132us/sample - loss: 0.0317 - mse: 0.0317 - mae: 0.1022 - val_loss: 0.0326 - val_mse: 0.0326 - val_mae: 0.0947\n",
      "Epoch 5/25\n",
      "14803/14803 [==============================] - 2s 136us/sample - loss: 0.0314 - mse: 0.0314 - mae: 0.1014 - val_loss: 0.0346 - val_mse: 0.0346 - val_mae: 0.0885\n",
      "Epoch 6/25\n",
      "14803/14803 [==============================] - 2s 127us/sample - loss: 0.0314 - mse: 0.0314 - mae: 0.1010 - val_loss: 0.0310 - val_mse: 0.0310 - val_mae: 0.0924\n",
      "Epoch 7/25\n",
      "14803/14803 [==============================] - 2s 129us/sample - loss: 0.0313 - mse: 0.0313 - mae: 0.1005 - val_loss: 0.0335 - val_mse: 0.0335 - val_mae: 0.0895\n",
      "Epoch 8/25\n",
      "14803/14803 [==============================] - 2s 136us/sample - loss: 0.0310 - mse: 0.0310 - mae: 0.0995 - val_loss: 0.0300 - val_mse: 0.0300 - val_mae: 0.0886\n",
      "Epoch 9/25\n",
      "14803/14803 [==============================] - 2s 125us/sample - loss: 0.0309 - mse: 0.0309 - mae: 0.0993 - val_loss: 0.0319 - val_mse: 0.0319 - val_mae: 0.0909\n",
      "Epoch 10/25\n",
      "14803/14803 [==============================] - 2s 133us/sample - loss: 0.0309 - mse: 0.0309 - mae: 0.0996 - val_loss: 0.0323 - val_mse: 0.0323 - val_mae: 0.0834\n",
      "Epoch 11/25\n",
      "14803/14803 [==============================] - 2s 139us/sample - loss: 0.0307 - mse: 0.0307 - mae: 0.0986 - val_loss: 0.0302 - val_mse: 0.0302 - val_mae: 0.0829\n",
      "Epoch 12/25\n",
      "14803/14803 [==============================] - 2s 129us/sample - loss: 0.0307 - mse: 0.0307 - mae: 0.0990 - val_loss: 0.0315 - val_mse: 0.0315 - val_mae: 0.0835\n",
      "Epoch 13/25\n",
      "14803/14803 [==============================] - 2s 122us/sample - loss: 0.0308 - mse: 0.0308 - mae: 0.0987 - val_loss: 0.0312 - val_mse: 0.0312 - val_mae: 0.0830\n",
      "Epoch 14/25\n",
      "14803/14803 [==============================] - 2s 127us/sample - loss: 0.0308 - mse: 0.0308 - mae: 0.0989 - val_loss: 0.0323 - val_mse: 0.0323 - val_mae: 0.0855\n",
      "Epoch 15/25\n",
      "14803/14803 [==============================] - 2s 153us/sample - loss: 0.0307 - mse: 0.0307 - mae: 0.0985 - val_loss: 0.0290 - val_mse: 0.0290 - val_mae: 0.0869\n",
      "Epoch 16/25\n",
      "14803/14803 [==============================] - 2s 137us/sample - loss: 0.0304 - mse: 0.0304 - mae: 0.0975 - val_loss: 0.0319 - val_mse: 0.0319 - val_mae: 0.0934\n",
      "Epoch 17/25\n",
      "14803/14803 [==============================] - 2s 127us/sample - loss: 0.0305 - mse: 0.0305 - mae: 0.0982 - val_loss: 0.0321 - val_mse: 0.0321 - val_mae: 0.0854\n",
      "Epoch 18/25\n",
      "14803/14803 [==============================] - 2s 123us/sample - loss: 0.0307 - mse: 0.0307 - mae: 0.0986 - val_loss: 0.0324 - val_mse: 0.0324 - val_mae: 0.0912\n",
      "Epoch 19/25\n",
      "14803/14803 [==============================] - 2s 123us/sample - loss: 0.0306 - mse: 0.0306 - mae: 0.0979 - val_loss: 0.0300 - val_mse: 0.0300 - val_mae: 0.0863\n",
      "Epoch 20/25\n",
      "14803/14803 [==============================] - 2s 125us/sample - loss: 0.0305 - mse: 0.0305 - mae: 0.0976 - val_loss: 0.0299 - val_mse: 0.0299 - val_mae: 0.0843\n",
      "Epoch 21/25\n",
      "14803/14803 [==============================] - 2s 126us/sample - loss: 0.0305 - mse: 0.0305 - mae: 0.0981 - val_loss: 0.0323 - val_mse: 0.0323 - val_mae: 0.0834\n",
      "Epoch 22/25\n",
      "14803/14803 [==============================] - 2s 125us/sample - loss: 0.0306 - mse: 0.0306 - mae: 0.0976 - val_loss: 0.0309 - val_mse: 0.0309 - val_mae: 0.0840\n",
      "Epoch 23/25\n",
      "14803/14803 [==============================] - 2s 127us/sample - loss: 0.0304 - mse: 0.0304 - mae: 0.0972 - val_loss: 0.0332 - val_mse: 0.0332 - val_mae: 0.0832\n",
      "Epoch 24/25\n",
      "14803/14803 [==============================] - 2s 135us/sample - loss: 0.0303 - mse: 0.0303 - mae: 0.0971 - val_loss: 0.0326 - val_mse: 0.0326 - val_mae: 0.0817\n",
      "Epoch 25/25\n",
      "14803/14803 [==============================] - 2s 140us/sample - loss: 0.0306 - mse: 0.0306 - mae: 0.0978 - val_loss: 0.0326 - val_mse: 0.0326 - val_mae: 0.0884\n"
     ]
    }
   ],
   "source": [
    "nn2 = model2.fit(X_train_10_undersample.astype(float), np.array(y_train_undersample), epochs=25, batch_size=10,  verbose=1, validation_split=0.2)"
   ]
  },
  {
   "cell_type": "code",
   "execution_count": 127,
   "metadata": {},
   "outputs": [
    {
     "name": "stderr",
     "output_type": "stream",
     "text": [
      "C:\\Users\\reonh\\Anaconda3\\lib\\site-packages\\sklearn\\preprocessing\\_label.py:251: DataConversionWarning: A column-vector y was passed when a 1d array was expected. Please change the shape of y to (n_samples, ), for example using ravel().\n",
      "  y = column_or_1d(y, warn=True)\n"
     ]
    },
    {
     "name": "stdout",
     "output_type": "stream",
     "text": [
      "        0      1\n",
      "0  137850  16152\n",
      "1     236   2081\n",
      "              precision    recall  f1-score   support\n",
      "\n",
      "           0       1.00      0.90      0.94    154002\n",
      "           1       0.11      0.90      0.20      2317\n",
      "\n",
      "    accuracy                           0.90    156319\n",
      "   macro avg       0.56      0.90      0.57    156319\n",
      "weighted avg       0.99      0.90      0.93    156319\n",
      "\n"
     ]
    }
   ],
   "source": [
    "ypred2cont = model2.predict(X_test_10)\n",
    "ypred2 = ypred2cont > 0.75\n",
    "ypred2 = LabelEncoder().fit_transform(ypred2)\n",
    "print(pd.DataFrame(confusion_matrix(y_testc, ypred2)))\n",
    "print(classification_report(y_testc, ypred2, labels=None, target_names=None, sample_weight=None, digits=2, output_dict=False, zero_division='warn'))"
   ]
  },
  {
   "cell_type": "code",
   "execution_count": 129,
   "metadata": {},
   "outputs": [
    {
     "data": {
      "text/plain": [
       "0.046370248155202506"
      ]
     },
     "execution_count": 129,
     "metadata": {},
     "output_type": "execute_result"
    }
   ],
   "source": [
    "mean_squared_error(y_test, ypred2cont, sample_weight=None, multioutput='uniform_average', squared=True)"
   ]
  },
  {
   "cell_type": "code",
   "execution_count": 131,
   "metadata": {},
   "outputs": [
    {
     "data": {
      "image/png": "[encoded data removed]",
      "text/plain": [
       "<Figure size 432x288 with 1 Axes>"
      ]
     },
     "metadata": {
      "needs_background": "light"
     },
     "output_type": "display_data"
    }
   ],
   "source": [
    "ax1 = sn.distplot(y_test, hist=False, color=\"r\", label=\"Actual Values\")\n",
    "ax1 = sn.distplot(ypred2cont, hist=False, color=\"b\", label=\"Fitted Values\", ax = ax1 )"
   ]
  },
  {
   "cell_type": "markdown",
   "metadata": {},
   "source": [
    "The regression task with undersampled data has higher recalls compared to the first model using all the original data. However, it has a larger RMSE. \n",
    "\n",
    "Compile the 3 models trained into a table:"
   ]
  },
  {
   "cell_type": "code",
   "execution_count": 101,
   "metadata": {},
   "outputs": [],
   "source": [
    "m2 = classification_report(y_testc, ypred2, labels=None, target_names=None, sample_weight=None, digits=2, output_dict=True, zero_division='warn')"
   ]
  },
  {
   "cell_type": "code",
   "execution_count": 102,
   "metadata": {},
   "outputs": [],
   "source": [
    "m1 = classification_report(y_testc, ypredc, labels=None, target_names=None, sample_weight=None, digits=2, output_dict=True, zero_division='warn')"
   ]
  },
  {
   "cell_type": "code",
   "execution_count": 103,
   "metadata": {},
   "outputs": [],
   "source": [
    "mc = classification_report(y_testc, ypredc_undersample, labels=None, target_names=None, sample_weight=None, digits=2, output_dict=True, zero_division='warn')"
   ]
  },
  {
   "cell_type": "code",
   "execution_count": 104,
   "metadata": {},
   "outputs": [],
   "source": [
    "f1_0 = [x[\"0\"][\"f1-score\"] for x in [m1,mc,m2]]\n",
    "r0 = [x[\"0\"][\"recall\"] for x in [m1,mc,m2]]\n",
    "r1 = [x[\"1\"][\"recall\"] for x in [m1,mc,m2]]\n",
    "p0 = [x[\"0\"][\"precision\"] for x in [m1,mc,m2]]\n",
    "p1 = [x[\"1\"][\"precision\"] for x in [m1,mc,m2]]\n",
    "f1_1 = [x[\"1\"][\"f1-score\"] for x in [m1,mc,m2]]\n",
    "f1_macro = [x[\"macro avg\"][\"f1-score\"] for x in [m1,mc,m2]] \n",
    "acc = [x[\"accuracy\"] for x in [m1,mc,m2]]\n",
    "\n",
    "model_performance = pd.DataFrame([f1_0, f1_1, f1_macro, r0, r1, p0, p1, acc]).transpose()\n",
    "model_performance.columns = [\"F1_Inefficient\", \"F1_Efficient\", \"Macro_Avg_F1\", 'Recall_Inefficient', \"Recall_Efficient\", \"Precision_Inefficient\", \"Precision_Efficient\", \"Accuracy\"]\n",
    "model_performance.index = [\"Regression, all data\", \"Classification, undersampled\", \"Regression, undersampled\"]"
   ]
  },
  {
   "cell_type": "code",
   "execution_count": 132,
   "metadata": {},
   "outputs": [],
   "source": [
    "modelc.save('modelc.h5')"
   ]
  },
  {
   "cell_type": "code",
   "execution_count": 133,
   "metadata": {},
   "outputs": [],
   "source": [
    "model.save('model.h5')"
   ]
  },
  {
   "cell_type": "code",
   "execution_count": 134,
   "metadata": {},
   "outputs": [],
   "source": [
    "model2.save('model2.h5')"
   ]
  },
  {
   "cell_type": "markdown",
   "metadata": {},
   "source": [
    "### Model Comparisons"
   ]
  },
  {
   "cell_type": "code",
   "execution_count": 108,
   "metadata": {},
   "outputs": [
    {
     "data": {
      "text/html": [
       "<div>\n",
       "<style scoped>\n",
       "    .dataframe tbody tr th:only-of-type {\n",
       "        vertical-align: middle;\n",
       "    }\n",
       "\n",
       "    .dataframe tbody tr th {\n",
       "        vertical-align: top;\n",
       "    }\n",
       "\n",
       "    .dataframe thead th {\n",
       "        text-align: right;\n",
       "    }\n",
       "</style>\n",
       "<table border=\"1\" class=\"dataframe\">\n",
       "  <thead>\n",
       "    <tr style=\"text-align: right;\">\n",
       "      <th></th>\n",
       "      <th>F1_Inefficient</th>\n",
       "      <th>F1_Efficient</th>\n",
       "      <th>Macro_Avg_F1</th>\n",
       "      <th>Recall_Inefficient</th>\n",
       "      <th>Recall_Efficient</th>\n",
       "      <th>Precision_Inefficient</th>\n",
       "      <th>Precision_Efficient</th>\n",
       "      <th>Accuracy</th>\n",
       "    </tr>\n",
       "  </thead>\n",
       "  <tbody>\n",
       "    <tr>\n",
       "      <td>Regression, all data</td>\n",
       "      <td>0.992949</td>\n",
       "      <td>0.122039</td>\n",
       "      <td>0.557494</td>\n",
       "      <td>0.999857</td>\n",
       "      <td>0.065602</td>\n",
       "      <td>0.986135</td>\n",
       "      <td>0.873563</td>\n",
       "      <td>0.986009</td>\n",
       "    </tr>\n",
       "    <tr>\n",
       "      <td>Classification, undersampled</td>\n",
       "      <td>0.988417</td>\n",
       "      <td>0.430794</td>\n",
       "      <td>0.709606</td>\n",
       "      <td>0.983279</td>\n",
       "      <td>0.579629</td>\n",
       "      <td>0.993609</td>\n",
       "      <td>0.342777</td>\n",
       "      <td>0.977296</td>\n",
       "    </tr>\n",
       "    <tr>\n",
       "      <td>Regression, undersampled</td>\n",
       "      <td>0.943952</td>\n",
       "      <td>0.202611</td>\n",
       "      <td>0.573281</td>\n",
       "      <td>0.895229</td>\n",
       "      <td>0.897713</td>\n",
       "      <td>0.998284</td>\n",
       "      <td>0.114192</td>\n",
       "      <td>0.895265</td>\n",
       "    </tr>\n",
       "  </tbody>\n",
       "</table>\n",
       "</div>"
      ],
      "text/plain": [
       "                              F1_Inefficient  F1_Efficient  Macro_Avg_F1  \\\n",
       "Regression, all data                0.992949      0.122039      0.557494   \n",
       "Classification, undersampled        0.988417      0.430794      0.709606   \n",
       "Regression, undersampled            0.943952      0.202611      0.573281   \n",
       "\n",
       "                              Recall_Inefficient  Recall_Efficient  \\\n",
       "Regression, all data                    0.999857          0.065602   \n",
       "Classification, undersampled            0.983279          0.579629   \n",
       "Regression, undersampled                0.895229          0.897713   \n",
       "\n",
       "                              Precision_Inefficient  Precision_Efficient  \\\n",
       "Regression, all data                       0.986135             0.873563   \n",
       "Classification, undersampled               0.993609             0.342777   \n",
       "Regression, undersampled                   0.998284             0.114192   \n",
       "\n",
       "                              Accuracy  \n",
       "Regression, all data          0.986009  \n",
       "Classification, undersampled  0.977296  \n",
       "Regression, undersampled      0.895265  "
      ]
     },
     "execution_count": 108,
     "metadata": {},
     "output_type": "execute_result"
    }
   ],
   "source": [
    "model_performance"
   ]
  },
  {
   "cell_type": "markdown",
   "metadata": {},
   "source": [
    "##### Regression with all Data \n",
    "The highest accuracy is achieved using the regression task with all data points. However this model also has the lowest recall but highest precision for predicting efficient jobs.\n",
    "This model rejects 99% of all inefficient jobs but lets through only 6% of actually efficient jobs. \n",
    "\n",
    "If it is very important to ONLY allow efficient jobs through, then this is the most suitable model. That is, if processing inefficient jobs costs more than rejecting actually efficient jobs.\n",
    "\n",
    "##### Classification with undersampled Data\n",
    "This model has a strong F1 and reasonable accuracy. It is able to detect 57% of the actually efficient jobs, compared to the other models which are unable to do so.\n",
    "It rejects 98% of all inefficient jobs, and lets in 57% of all efficient jobs.\n",
    "\n",
    "If it is very important to allow efficient jobs through, then this is the most suitable model. That is, if rejecting efficient jobs costs more than processing inefficient jobs.\n",
    "\n",
    "##### Regressiong with undersampled Data\n",
    "The model performed the worst in terms of overall accuracy, but its performance is well balanced. It is able to reject 89% of all inefficient jobs while letting through 89% of efficient jobs. It is a very balanced model compared to the above 2.\n",
    "\n",
    "##### Conclusion\n",
    "In our HPC Efficiency use case, there are much much more inefficient jobs than efficient jobs. \n",
    "From a user's stanpoint, if we use model 1 or 2, efficient requests have a close to 90% 0r 50% chance of being rejected. This makes these models disruptive.\n",
    "\n",
    "In contrast, we can strike a balance by by rejecting 90% of all inefficient jobs while letting 90% of efficient requests through with the 3rd model. This seems like the best approach.\n"
   ]
  }
 ],
 "metadata": {
  "kernelspec": {
   "display_name": "Python 3",
   "language": "python",
   "name": "python3"
  },
  "language_info": {
   "codemirror_mode": {
    "name": "ipython",
    "version": 3
   },
   "file_extension": ".py",
   "mimetype": "text/x-python",
   "name": "python",
   "nbconvert_exporter": "python",
   "pygments_lexer": "ipython3",
   "version": "3.7.1"
  }
 },
 "nbformat": 4,
 "nbformat_minor": 4
}
